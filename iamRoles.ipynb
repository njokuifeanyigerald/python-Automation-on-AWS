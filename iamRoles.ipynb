{
 "cells": [
  {
   "cell_type": "code",
   "execution_count": 1,
   "metadata": {},
   "outputs": [
    {
     "name": "stdout",
     "output_type": "stream",
     "text": [
      "{\"Version\": \"2012-10-17\", \"Statement\": [{\"Effect\": \"Allow\", \"Principal\": {\"Service\": \"ec2.amazonaws.com\"}, \"Action\": \"sts:AssumeRole\"}]}\n"
     ]
    }
   ],
   "source": [
    "import json, boto3\n",
    "from pprint import pprint\n",
    "\n",
    "ec2_assume_role_policy_doc = json.dumps({\n",
    "    \"Version\": \"2012-10-17\",\n",
    "    \"Statement\": [\n",
    "        {\n",
    "            \"Effect\": \"Allow\",\n",
    "            \"Principal\": {\n",
    "                \"Service\": \"ec2.amazonaws.com\"\n",
    "            },\n",
    "            \"Action\": \"sts:AssumeRole\"\n",
    "        }\n",
    "    ]\n",
    "})\n",
    "\n",
    "print(ec2_assume_role_policy_doc)"
   ]
  },
  {
   "cell_type": "code",
   "execution_count": 3,
   "metadata": {},
   "outputs": [
    {
     "name": "stdout",
     "output_type": "stream",
     "text": [
      "{'ResponseMetadata': {'HTTPHeaders': {'content-length': '941',\n",
      "                                      'content-type': 'text/xml',\n",
      "                                      'date': 'Mon, 05 Sep 2022 12:21:37 GMT',\n",
      "                                      'x-amzn-requestid': '4a95f1f1-504a-438e-9a14-1c28d36fc6af'},\n",
      "                      'HTTPStatusCode': 200,\n",
      "                      'RequestId': '4a95f1f1-504a-438e-9a14-1c28d36fc6af',\n",
      "                      'RetryAttempts': 0},\n",
      " 'Role': {'Arn': 'arn:aws:iam::318867684519:role/ec2-readonly-gerald-2',\n",
      "          'AssumeRolePolicyDocument': {'Statement': [{'Action': 'sts:AssumeRole',\n",
      "                                                      'Effect': 'Allow',\n",
      "                                                      'Principal': {'Service': 'ec2.amazonaws.com'}}],\n",
      "                                       'Version': '2012-10-17'},\n",
      "          'CreateDate': datetime.datetime(2022, 9, 5, 12, 21, 37, tzinfo=tzutc()),\n",
      "          'Path': '/',\n",
      "          'RoleId': 'AROAUUPP6XSTWPMHUG2T3',\n",
      "          'RoleName': 'ec2-readonly-gerald-2',\n",
      "          'Tags': [{'Key': 'gerald.njoku',\n",
      "                    'Value': 'For automation with python'}]}}\n"
     ]
    }
   ],
   "source": [
    "\n",
    "gerald = boto3.Session(\n",
    "    profile_name= 'gerald.njoku',\n",
    "    region_name= \"eu-central-1\"\n",
    ")\n",
    "\n",
    "# add a a new client\n",
    "gerald_IAM = gerald.client(\"iam\")\n",
    "\n",
    "# we create the role with the new client\n",
    "response = gerald_IAM.create_role(\n",
    "    RoleName = \"ec2-readonly-gerald-2\",\n",
    "    AssumeRolePolicyDocument = ec2_assume_role_policy_doc,\n",
    "    Description = \"Allows an instance to ec2 read-only access\",\n",
    "    Tags = [\n",
    "        {\n",
    "            \"Key\": \"gerald.njoku\",\n",
    "            \"Value\": \"For automation with python\"\n",
    "        }\n",
    "    ]\n",
    ")\n",
    "\n",
    "pprint(response)"
   ]
  },
  {
   "cell_type": "code",
   "execution_count": 4,
   "metadata": {},
   "outputs": [
    {
     "name": "stdout",
     "output_type": "stream",
     "text": [
      "ec2-readonly-gerald-2\n"
     ]
    }
   ],
   "source": [
    "ec2_readonly_role_name = response['Role']['RoleName']\n",
    "print(ec2_readonly_role_name)\n",
    "\n",
    "\n"
   ]
  },
  {
   "cell_type": "code",
   "execution_count": 5,
   "metadata": {},
   "outputs": [
    {
     "name": "stdout",
     "output_type": "stream",
     "text": [
      "{'InstanceProfile': {'Arn': 'arn:aws:iam::318867684519:instance-profile/ec2-readonly-gerald-2',\n",
      "                     'CreateDate': datetime.datetime(2022, 9, 5, 12, 24, 20, tzinfo=tzutc()),\n",
      "                     'InstanceProfileId': 'AIPAUUPP6XSTRSSQLOSZX',\n",
      "                     'InstanceProfileName': 'ec2-readonly-gerald-2',\n",
      "                     'Path': '/',\n",
      "                     'Roles': [],\n",
      "                     'Tags': [{'Key': 'gerald.njoku',\n",
      "                               'Value': 'For automation with python'}]},\n",
      " 'ResponseMetadata': {'HTTPHeaders': {'content-length': '788',\n",
      "                                      'content-type': 'text/xml',\n",
      "                                      'date': 'Mon, 05 Sep 2022 12:24:20 GMT',\n",
      "                                      'x-amzn-requestid': '5ac91218-e18b-49ae-89bf-e26160dc93fa'},\n",
      "                      'HTTPStatusCode': 200,\n",
      "                      'RequestId': '5ac91218-e18b-49ae-89bf-e26160dc93fa',\n",
      "                      'RetryAttempts': 0}}\n"
     ]
    }
   ],
   "source": [
    "# we create the corresponding instance profile\n",
    "\n",
    "response = gerald_IAM.create_instance_profile(\n",
    "    InstanceProfileName   = ec2_readonly_role_name,\n",
    "    Tags = [\n",
    "        {\n",
    "            \"Key\": \"gerald.njoku\",\n",
    "            \"Value\": \"For automation with python\"\n",
    "        },\n",
    "    ]\n",
    ")\n",
    "pprint(response)"
   ]
  },
  {
   "cell_type": "code",
   "execution_count": 6,
   "metadata": {},
   "outputs": [
    {
     "data": {
      "text/plain": [
       "{'ResponseMetadata': {'RequestId': 'd614a382-36e1-4522-88dd-d05d2ccde558',\n",
       "  'HTTPStatusCode': 200,\n",
       "  'HTTPHeaders': {'x-amzn-requestid': 'd614a382-36e1-4522-88dd-d05d2ccde558',\n",
       "   'content-type': 'text/xml',\n",
       "   'content-length': '212',\n",
       "   'date': 'Mon, 05 Sep 2022 12:25:53 GMT'},\n",
       "  'RetryAttempts': 0}}"
      ]
     },
     "execution_count": 6,
     "metadata": {},
     "output_type": "execute_result"
    }
   ],
   "source": [
    "# we assign the EC2 Read Only managed policy to the new role\n",
    "\n",
    "gerald_IAM.attach_role_policy(\n",
    "    PolicyArn= 'arn:aws:iam::aws:policy/AmazonEC2ReadOnlyAccess',\n",
    "    RoleName = ec2_readonly_role_name\n",
    ")\n",
    "\n",
    "\n",
    "# go to your AWS console and check the role again(ec2role we created)"
   ]
  },
  {
   "cell_type": "code",
   "execution_count": 7,
   "metadata": {},
   "outputs": [
    {
     "name": "stdout",
     "output_type": "stream",
     "text": [
      "{'ResponseMetadata': {'RequestId': '2691728e-9925-4f3a-b3b1-ab9957d70d2a', 'HTTPStatusCode': 200, 'HTTPHeaders': {'x-amzn-requestid': '2691728e-9925-4f3a-b3b1-ab9957d70d2a', 'content-type': 'text/xml', 'content-length': '228', 'date': 'Mon, 05 Sep 2022 13:06:21 GMT'}, 'RetryAttempts': 0}}\n"
     ]
    }
   ],
   "source": [
    "response = gerald_IAM.add_role_to_instance_profile(\n",
    "    InstanceProfileName = ec2_readonly_role_name,\n",
    "    RoleName = ec2_readonly_role_name\n",
    ")\n",
    "\n",
    "print(response)"
   ]
  },
  {
   "cell_type": "code",
   "execution_count": 8,
   "metadata": {},
   "outputs": [
    {
     "ename": "ClientError",
     "evalue": "An error occurred (IncorrectState) when calling the AssociateIamInstanceProfile operation: There is an existing association for instance i-0e6ab39d2eefef734",
     "output_type": "error",
     "traceback": [
      "\u001b[0;31m---------------------------------------------------------------------------\u001b[0m",
      "\u001b[0;31mClientError\u001b[0m                               Traceback (most recent call last)",
      "\u001b[1;32m/home/ifeanyi/Desktop/projects/CloudBoosta/python_AWS/iamRoles.ipynb Cell 7'\u001b[0m in \u001b[0;36m<cell line: 5>\u001b[0;34m()\u001b[0m\n\u001b[1;32m      <a href='vscode-notebook-cell:/home/ifeanyi/Desktop/projects/CloudBoosta/python_AWS/iamRoles.ipynb#ch0000006?line=1'>2</a>\u001b[0m gerald_EC2 \u001b[39m=\u001b[39m gerald\u001b[39m.\u001b[39mclient(\u001b[39m\"\u001b[39m\u001b[39mec2\u001b[39m\u001b[39m\"\u001b[39m)\n\u001b[1;32m      <a href='vscode-notebook-cell:/home/ifeanyi/Desktop/projects/CloudBoosta/python_AWS/iamRoles.ipynb#ch0000006?line=3'>4</a>\u001b[0m \u001b[39m# we attach the role for an instance\u001b[39;00m\n\u001b[0;32m----> <a href='vscode-notebook-cell:/home/ifeanyi/Desktop/projects/CloudBoosta/python_AWS/iamRoles.ipynb#ch0000006?line=4'>5</a>\u001b[0m response \u001b[39m=\u001b[39m gerald_EC2\u001b[39m.\u001b[39;49massociate_iam_instance_profile(\n\u001b[1;32m      <a href='vscode-notebook-cell:/home/ifeanyi/Desktop/projects/CloudBoosta/python_AWS/iamRoles.ipynb#ch0000006?line=5'>6</a>\u001b[0m     IamInstanceProfile \u001b[39m=\u001b[39;49m {\n\u001b[1;32m      <a href='vscode-notebook-cell:/home/ifeanyi/Desktop/projects/CloudBoosta/python_AWS/iamRoles.ipynb#ch0000006?line=6'>7</a>\u001b[0m         \u001b[39m\"\u001b[39;49m\u001b[39mName\u001b[39;49m\u001b[39m\"\u001b[39;49m: ec2_readonly_role_name\n\u001b[1;32m      <a href='vscode-notebook-cell:/home/ifeanyi/Desktop/projects/CloudBoosta/python_AWS/iamRoles.ipynb#ch0000006?line=7'>8</a>\u001b[0m     },\n\u001b[1;32m      <a href='vscode-notebook-cell:/home/ifeanyi/Desktop/projects/CloudBoosta/python_AWS/iamRoles.ipynb#ch0000006?line=8'>9</a>\u001b[0m     \u001b[39m# remember to put it in the same region, if not, errors go choke  \u001b[39;49;00m\n\u001b[1;32m     <a href='vscode-notebook-cell:/home/ifeanyi/Desktop/projects/CloudBoosta/python_AWS/iamRoles.ipynb#ch0000006?line=9'>10</a>\u001b[0m     InstanceId  \u001b[39m=\u001b[39;49m \u001b[39m\"\u001b[39;49m\u001b[39mi-0e6ab39d2eefef734\u001b[39;49m\u001b[39m\"\u001b[39;49m\n\u001b[1;32m     <a href='vscode-notebook-cell:/home/ifeanyi/Desktop/projects/CloudBoosta/python_AWS/iamRoles.ipynb#ch0000006?line=10'>11</a>\u001b[0m )\n\u001b[1;32m     <a href='vscode-notebook-cell:/home/ifeanyi/Desktop/projects/CloudBoosta/python_AWS/iamRoles.ipynb#ch0000006?line=12'>13</a>\u001b[0m \u001b[39mprint\u001b[39m(response)\n",
      "File \u001b[0;32m~/.local/lib/python3.10/site-packages/botocore/client.py:512\u001b[0m, in \u001b[0;36mClientCreator._create_api_method.<locals>._api_call\u001b[0;34m(self, *args, **kwargs)\u001b[0m\n\u001b[1;32m    508\u001b[0m     \u001b[39mraise\u001b[39;00m \u001b[39mTypeError\u001b[39;00m(\n\u001b[1;32m    509\u001b[0m         \u001b[39mf\u001b[39m\u001b[39m\"\u001b[39m\u001b[39m{\u001b[39;00mpy_operation_name\u001b[39m}\u001b[39;00m\u001b[39m() only accepts keyword arguments.\u001b[39m\u001b[39m\"\u001b[39m\n\u001b[1;32m    510\u001b[0m     )\n\u001b[1;32m    511\u001b[0m \u001b[39m# The \"self\" in this scope is referring to the BaseClient.\u001b[39;00m\n\u001b[0;32m--> 512\u001b[0m \u001b[39mreturn\u001b[39;00m \u001b[39mself\u001b[39;49m\u001b[39m.\u001b[39;49m_make_api_call(operation_name, kwargs)\n",
      "File \u001b[0;32m~/.local/lib/python3.10/site-packages/botocore/client.py:919\u001b[0m, in \u001b[0;36mBaseClient._make_api_call\u001b[0;34m(self, operation_name, api_params)\u001b[0m\n\u001b[1;32m    917\u001b[0m     error_code \u001b[39m=\u001b[39m parsed_response\u001b[39m.\u001b[39mget(\u001b[39m\"\u001b[39m\u001b[39mError\u001b[39m\u001b[39m\"\u001b[39m, {})\u001b[39m.\u001b[39mget(\u001b[39m\"\u001b[39m\u001b[39mCode\u001b[39m\u001b[39m\"\u001b[39m)\n\u001b[1;32m    918\u001b[0m     error_class \u001b[39m=\u001b[39m \u001b[39mself\u001b[39m\u001b[39m.\u001b[39mexceptions\u001b[39m.\u001b[39mfrom_code(error_code)\n\u001b[0;32m--> 919\u001b[0m     \u001b[39mraise\u001b[39;00m error_class(parsed_response, operation_name)\n\u001b[1;32m    920\u001b[0m \u001b[39melse\u001b[39;00m:\n\u001b[1;32m    921\u001b[0m     \u001b[39mreturn\u001b[39;00m parsed_response\n",
      "\u001b[0;31mClientError\u001b[0m: An error occurred (IncorrectState) when calling the AssociateIamInstanceProfile operation: There is an existing association for instance i-0e6ab39d2eefef734"
     ]
    }
   ],
   "source": [
    "# New client for EC2\n",
    "gerald_EC2 = gerald.client(\"ec2\")\n",
    "\n",
    "# we attach the role for an instance\n",
    "response = gerald_EC2.associate_iam_instance_profile(\n",
    "    IamInstanceProfile = {\n",
    "        \"Name\": ec2_readonly_role_name\n",
    "    },\n",
    "    # remember to put it in the same region, if not, errors go choke  \n",
    "    InstanceId  = \"i-0e6ab39d2eefef734\"\n",
    ")\n",
    "\n",
    "print(response)"
   ]
  },
  {
   "cell_type": "markdown",
   "metadata": {},
   "source": [
    "we create a fucntion that does everything so we don't need to remind all of the steps, automate the process, and make sure of the rules are followed"
   ]
  },
  {
   "cell_type": "code",
   "execution_count": 8,
   "metadata": {},
   "outputs": [],
   "source": [
    "from time import sleep\n",
    "\n",
    "def grant_role_to_instance (session: boto3.session.Session, instance_id: str,\n",
    "                            role_name: str, role_description:str,\n",
    "                            policy_to_grant: str) -> None:\n",
    "    \n",
    "    # this policy allows only EC2 instances to assume this role\n",
    "    ec2_assume_role_policy_doc = json.dumps({\n",
    "        \"Version\": \"2012-10-17\",\n",
    "        \"Statement\": [\n",
    "            {\n",
    "                \"Effect\": \"Allow\",\n",
    "                \"Principal\": {\n",
    "                    \"Service\": \"ec2.amazonaws.com\"\n",
    "                },\n",
    "                \"Action\": \"sts:AssumeRole\"\n",
    "            }\n",
    "        ]\n",
    "    })\n",
    "\n",
    "    # IAM Client\n",
    "    iam  =  session.client(\"iam\")\n",
    "\n",
    "    # we create the role with the new client\n",
    "    iam.create_role(\n",
    "        RoleName = role_name,\n",
    "        AssumeRolePolicyDocument = ec2_assume_role_policy_doc,\n",
    "        Description = role_description\n",
    "    )\n",
    "\n",
    "    # we create the corresponding instance profile\n",
    "    iam.create_instance_profile(\n",
    "        InstanceProfileName = role_name,\n",
    "    )\n",
    "\n",
    "    # we assign the ec2 Read Only managed policy to the new role\n",
    "    iam.attach_role_policy(\n",
    "        PolicyArn=policy_to_grant,\n",
    "        RoleName = role_name\n",
    "\n",
    "    )\n",
    "\n",
    "    # we assign the role to the instance profile\n",
    "    iam.add_role_to_instance_profile(\n",
    "        InstanceProfileName= role_name,\n",
    "        RoleName = role_name\n",
    "    )\n",
    "\n",
    "    # wait for the changes to propagate\n",
    "    sleep(10)\n",
    "    # EC2 client\n",
    "    ec2 = session.client(\"ec2\")\n",
    "    # we attach the role to the instance\n",
    "    ec2.associate_iam_instance_profile(\n",
    "        IamInstanceProfile={\n",
    "            \"Name\": role_name\n",
    "        },\n",
    "        InstanceId = instance_id\n",
    "    )\n"
   ]
  },
  {
   "cell_type": "code",
   "execution_count": 10,
   "metadata": {},
   "outputs": [],
   "source": [
    "grant_role_to_instance(session = gerald, instance_id=\"i-08ea3dc227cf38ff4\", role_name= \"fucntion_role7\",\n",
    "                        role_description= \"created via another function\", \n",
    "                        policy_to_grant=\"arn:aws:iam::aws:policy/AmazonEC2ReadOnlyAccess\")\n",
    "                        "
   ]
  },
  {
   "cell_type": "markdown",
   "metadata": {},
   "source": [
    "# AWS IS ASYNCHRONOUS\n",
    "Many times the calls to the AWS API return with a \"success\" code, even if the requested action hasn't finished yet.\n",
    "For example, the function fails because the instance profile is not ready when we try to assign it to the instance\n"
   ]
  },
  {
   "cell_type": "markdown",
   "metadata": {},
   "source": [
    "# Waiters\n",
    "There are specific commands to **\"wait\"** for a resource to be ready"
   ]
  },
  {
   "cell_type": "markdown",
   "metadata": {},
   "source": [
    "example:\n",
    "\n",
    "    ```python\n",
    "    waiter = iam.get_waiter(\"instance_profile_exists)\n",
    "    waiter.wait(\n",
    "        InstanceProfileName = 'string',\n",
    "        WaiterConfig={\n",
    "            \"Delay\": 123, \n",
    "            \"MaxAttempts: 123\n",
    "        }\n",
    "    )\n",
    "    ```"
   ]
  },
  {
   "cell_type": "code",
   "execution_count": 7,
   "metadata": {},
   "outputs": [
    {
     "name": "stdout",
     "output_type": "stream",
     "text": [
      "{'Reservations': [...], 'ResponseMetadata': {...}}\n"
     ]
    }
   ],
   "source": [
    "# GET INFORMATION IF THERE ARE NOT MUCH DATA\n",
    "\n",
    "\n",
    "ec2 = gerald.client(\"ec2\")\n",
    "response = ec2.describe_instances()\n",
    "pprint(response, depth=1)"
   ]
  },
  {
   "cell_type": "code",
   "execution_count": 8,
   "metadata": {},
   "outputs": [
    {
     "name": "stdout",
     "output_type": "stream",
     "text": [
      "3\n"
     ]
    }
   ],
   "source": [
    "print(len(response[\"Reservations\"]))"
   ]
  },
  {
   "cell_type": "code",
   "execution_count": 9,
   "metadata": {},
   "outputs": [
    {
     "name": "stdout",
     "output_type": "stream",
     "text": [
      "{'Groups': [],\n",
      " 'Instances': [...],\n",
      " 'OwnerId': '318867684519',\n",
      " 'ReservationId': 'r-0a3f7d6cbbb7b850d'}\n"
     ]
    }
   ],
   "source": [
    "pprint(response[\"Reservations\"][0], depth=1)\n"
   ]
  },
  {
   "cell_type": "code",
   "execution_count": 11,
   "metadata": {},
   "outputs": [
    {
     "name": "stdout",
     "output_type": "stream",
     "text": [
      "1\n"
     ]
    }
   ],
   "source": [
    "print(len(response[\"Reservations\"][0][\"Instances\"]))\n"
   ]
  },
  {
   "cell_type": "code",
   "execution_count": 12,
   "metadata": {},
   "outputs": [
    {
     "name": "stdout",
     "output_type": "stream",
     "text": [
      "{'AmiLaunchIndex': 0,\n",
      " 'Architecture': 'x86_64',\n",
      " 'BlockDeviceMappings': [...],\n",
      " 'CapacityReservationSpecification': {...},\n",
      " 'ClientToken': '',\n",
      " 'CpuOptions': {...},\n",
      " 'EbsOptimized': False,\n",
      " 'EnaSupport': True,\n",
      " 'EnclaveOptions': {...},\n",
      " 'HibernationOptions': {...},\n",
      " 'Hypervisor': 'xen',\n",
      " 'IamInstanceProfile': {...},\n",
      " 'ImageId': 'ami-0e2031728ef69a466',\n",
      " 'InstanceId': 'i-06bd4f1e00234edd2',\n",
      " 'InstanceType': 't2.micro',\n",
      " 'Ipv6Address': '2a05:d014:e31:c200:a1b0:2867:fc9f:1629',\n",
      " 'KeyName': 'soso',\n",
      " 'LaunchTime': datetime.datetime(2022, 8, 30, 16, 56, 59, tzinfo=tzutc()),\n",
      " 'MaintenanceOptions': {...},\n",
      " 'MetadataOptions': {...},\n",
      " 'Monitoring': {...},\n",
      " 'NetworkInterfaces': [...],\n",
      " 'Placement': {...},\n",
      " 'PlatformDetails': 'Linux/UNIX',\n",
      " 'PrivateDnsName': 'ip-10-0-6-64.eu-central-1.compute.internal',\n",
      " 'PrivateDnsNameOptions': {...},\n",
      " 'PrivateIpAddress': '10.0.6.64',\n",
      " 'ProductCodes': [],\n",
      " 'PublicDnsName': 'ec2-18-196-82-51.eu-central-1.compute.amazonaws.com',\n",
      " 'PublicIpAddress': '18.196.82.51',\n",
      " 'RootDeviceName': '/dev/xvda',\n",
      " 'RootDeviceType': 'ebs',\n",
      " 'SecurityGroups': [...],\n",
      " 'SourceDestCheck': True,\n",
      " 'State': {...},\n",
      " 'StateTransitionReason': '',\n",
      " 'SubnetId': 'subnet-0659b44fea1e71443',\n",
      " 'Tags': [...],\n",
      " 'UsageOperation': 'RunInstances',\n",
      " 'UsageOperationUpdateTime': datetime.datetime(2022, 8, 30, 16, 56, 59, tzinfo=tzutc()),\n",
      " 'VirtualizationType': 'hvm',\n",
      " 'VpcId': 'vpc-0aba5269031af2a24'}\n"
     ]
    }
   ],
   "source": [
    "pprint(response[\"Reservations\"][0][\"Instances\"][0], depth=1)"
   ]
  },
  {
   "cell_type": "code",
   "execution_count": 23,
   "metadata": {},
   "outputs": [
    {
     "name": "stdout",
     "output_type": "stream",
     "text": [
      "1\n",
      "{'Key': 'Name', 'Value': 'test'}\n"
     ]
    }
   ],
   "source": [
    "print(len(response[\"Reservations\"][0][\"Instances\"][0][\"Tags\"]))\n",
    "pprint(response[\"Reservations\"][0][\"Instances\"][0][\"Tags\"][0])\n"
   ]
  },
  {
   "cell_type": "code",
   "execution_count": 24,
   "metadata": {},
   "outputs": [
    {
     "name": "stdout",
     "output_type": "stream",
     "text": [
      "i-06bd4f1e00234edd2 is test\n",
      "i-0794bdae0f118bae7 is another_one\n",
      "i-0673f5415cc1cd616 is test-authomate2\n"
     ]
    }
   ],
   "source": [
    "# to get every running EC2 Instances\n",
    "for reservation in response[\"Reservations\"]:\n",
    "    for instance in reservation[\"Instances\"]:\n",
    "        print(f\"{instance['InstanceId']} is {[tag['Value'] for tag in instance['Tags'] ] [0]}\")"
   ]
  },
  {
   "cell_type": "markdown",
   "metadata": {},
   "source": [
    "## Filtering Our Queries"
   ]
  },
  {
   "cell_type": "code",
   "execution_count": 26,
   "metadata": {},
   "outputs": [
    {
     "name": "stdout",
     "output_type": "stream",
     "text": [
      "{'AmiLaunchIndex': 0,\n",
      " 'Architecture': 'x86_64',\n",
      " 'BlockDeviceMappings': [{'DeviceName': '/dev/xvda',\n",
      "                          'Ebs': {'AttachTime': datetime.datetime(2022, 8, 30, 17, 48, 21, tzinfo=tzutc()),\n",
      "                                  'DeleteOnTermination': True,\n",
      "                                  'Status': 'attached',\n",
      "                                  'VolumeId': 'vol-0329c6f03cbae6cc1'}}],\n",
      " 'CapacityReservationSpecification': {'CapacityReservationPreference': 'open'},\n",
      " 'ClientToken': '',\n",
      " 'CpuOptions': {'CoreCount': 1, 'ThreadsPerCore': 1},\n",
      " 'EbsOptimized': False,\n",
      " 'EnaSupport': True,\n",
      " 'EnclaveOptions': {'Enabled': False},\n",
      " 'HibernationOptions': {'Configured': False},\n",
      " 'Hypervisor': 'xen',\n",
      " 'IamInstanceProfile': {'Arn': 'arn:aws:iam::318867684519:instance-profile/fucntion_role2',\n",
      "                        'Id': 'AIPAUUPP6XSTRVXNKWP5Z'},\n",
      " 'ImageId': 'ami-0e2031728ef69a466',\n",
      " 'InstanceId': 'i-0794bdae0f118bae7',\n",
      " 'InstanceType': 't2.micro',\n",
      " 'KeyName': 'soso',\n",
      " 'LaunchTime': datetime.datetime(2022, 8, 30, 17, 48, 20, tzinfo=tzutc()),\n",
      " 'MaintenanceOptions': {'AutoRecovery': 'default'},\n",
      " 'MetadataOptions': {'HttpEndpoint': 'enabled',\n",
      "                     'HttpProtocolIpv6': 'disabled',\n",
      "                     'HttpPutResponseHopLimit': 1,\n",
      "                     'HttpTokens': 'optional',\n",
      "                     'InstanceMetadataTags': 'disabled',\n",
      "                     'State': 'applied'},\n",
      " 'Monitoring': {'State': 'disabled'},\n",
      " 'NetworkInterfaces': [{'Association': {'IpOwnerId': 'amazon',\n",
      "                                        'PublicDnsName': 'ec2-35-157-66-226.eu-central-1.compute.amazonaws.com',\n",
      "                                        'PublicIp': '35.157.66.226'},\n",
      "                        'Attachment': {'AttachTime': datetime.datetime(2022, 8, 30, 17, 48, 20, tzinfo=tzutc()),\n",
      "                                       'AttachmentId': 'eni-attach-010e0373059fd422f',\n",
      "                                       'DeleteOnTermination': True,\n",
      "                                       'DeviceIndex': 0,\n",
      "                                       'NetworkCardIndex': 0,\n",
      "                                       'Status': 'attached'},\n",
      "                        'Description': '',\n",
      "                        'Groups': [{'GroupId': 'sg-01f446924d0ab6325',\n",
      "                                    'GroupName': 'launch-wizard-4'}],\n",
      "                        'InterfaceType': 'interface',\n",
      "                        'Ipv6Addresses': [],\n",
      "                        'MacAddress': '02:57:39:1c:af:aa',\n",
      "                        'NetworkInterfaceId': 'eni-026fa4a9cd14485f4',\n",
      "                        'OwnerId': '318867684519',\n",
      "                        'PrivateDnsName': 'ip-10-0-6-87.eu-central-1.compute.internal',\n",
      "                        'PrivateIpAddress': '10.0.6.87',\n",
      "                        'PrivateIpAddresses': [{'Association': {'IpOwnerId': 'amazon',\n",
      "                                                                'PublicDnsName': 'ec2-35-157-66-226.eu-central-1.compute.amazonaws.com',\n",
      "                                                                'PublicIp': '35.157.66.226'},\n",
      "                                                'Primary': True,\n",
      "                                                'PrivateDnsName': 'ip-10-0-6-87.eu-central-1.compute.internal',\n",
      "                                                'PrivateIpAddress': '10.0.6.87'}],\n",
      "                        'SourceDestCheck': True,\n",
      "                        'Status': 'in-use',\n",
      "                        'SubnetId': 'subnet-0659b44fea1e71443',\n",
      "                        'VpcId': 'vpc-0aba5269031af2a24'}],\n",
      " 'Placement': {'AvailabilityZone': 'eu-central-1a',\n",
      "               'GroupName': '',\n",
      "               'Tenancy': 'default'},\n",
      " 'PlatformDetails': 'Linux/UNIX',\n",
      " 'PrivateDnsName': 'ip-10-0-6-87.eu-central-1.compute.internal',\n",
      " 'PrivateDnsNameOptions': {'EnableResourceNameDnsAAAARecord': False,\n",
      "                           'EnableResourceNameDnsARecord': False,\n",
      "                           'HostnameType': 'ip-name'},\n",
      " 'PrivateIpAddress': '10.0.6.87',\n",
      " 'ProductCodes': [],\n",
      " 'PublicDnsName': 'ec2-35-157-66-226.eu-central-1.compute.amazonaws.com',\n",
      " 'PublicIpAddress': '35.157.66.226',\n",
      " 'RootDeviceName': '/dev/xvda',\n",
      " 'RootDeviceType': 'ebs',\n",
      " 'SecurityGroups': [{'GroupId': 'sg-01f446924d0ab6325',\n",
      "                     'GroupName': 'launch-wizard-4'}],\n",
      " 'SourceDestCheck': True,\n",
      " 'State': {'Code': 16, 'Name': 'running'},\n",
      " 'StateTransitionReason': '',\n",
      " 'SubnetId': 'subnet-0659b44fea1e71443',\n",
      " 'Tags': [{'Key': 'Name', 'Value': 'another_one'}],\n",
      " 'UsageOperation': 'RunInstances',\n",
      " 'UsageOperationUpdateTime': datetime.datetime(2022, 8, 30, 17, 48, 20, tzinfo=tzutc()),\n",
      " 'VirtualizationType': 'hvm',\n",
      " 'VpcId': 'vpc-0aba5269031af2a24'}\n"
     ]
    }
   ],
   "source": [
    "response = ec2.describe_instances(InstanceIds=[\"i-0794bdae0f118bae7\"])\n",
    "pprint(response[\"Reservations\"][0][\"Instances\"][0])"
   ]
  },
  {
   "cell_type": "code",
   "execution_count": 35,
   "metadata": {},
   "outputs": [
    {
     "name": "stdout",
     "output_type": "stream",
     "text": [
      "[]\n"
     ]
    }
   ],
   "source": [
    "# check for instnaces which security group is = bastion\n",
    "response  = ec2.describe_instances(\n",
    "    Filters=[\n",
    "        {\n",
    "            \"Name\": \"instance.group-name\",\n",
    "            \"Values\": [\"bastion\"]\n",
    "        }\n",
    "    ]\n",
    ")\n",
    "\n",
    "pprint(response[\"Reservations\"])"
   ]
  },
  {
   "cell_type": "code",
   "execution_count": 36,
   "metadata": {},
   "outputs": [
    {
     "ename": "IndexError",
     "evalue": "list index out of range",
     "output_type": "error",
     "traceback": [
      "\u001b[0;31m---------------------------------------------------------------------------\u001b[0m",
      "\u001b[0;31mIndexError\u001b[0m                                Traceback (most recent call last)",
      "\u001b[1;32m/home/ifeanyi/Desktop/projects/CloudBoosta/python_AWS/iamRoles.ipynb Cell 24'\u001b[0m in \u001b[0;36m<cell line: 11>\u001b[0;34m()\u001b[0m\n\u001b[1;32m      <a href='vscode-notebook-cell:/home/ifeanyi/Desktop/projects/CloudBoosta/python_AWS/iamRoles.ipynb#ch0000029?line=0'>1</a>\u001b[0m \u001b[39m# getting tags by color\u001b[39;00m\n\u001b[1;32m      <a href='vscode-notebook-cell:/home/ifeanyi/Desktop/projects/CloudBoosta/python_AWS/iamRoles.ipynb#ch0000029?line=1'>2</a>\u001b[0m response  \u001b[39m=\u001b[39m ec2\u001b[39m.\u001b[39mdescribe_instances(\n\u001b[1;32m      <a href='vscode-notebook-cell:/home/ifeanyi/Desktop/projects/CloudBoosta/python_AWS/iamRoles.ipynb#ch0000029?line=2'>3</a>\u001b[0m     Filters\u001b[39m=\u001b[39m[\n\u001b[1;32m      <a href='vscode-notebook-cell:/home/ifeanyi/Desktop/projects/CloudBoosta/python_AWS/iamRoles.ipynb#ch0000029?line=3'>4</a>\u001b[0m         {\n\u001b[0;32m   (...)\u001b[0m\n\u001b[1;32m      <a href='vscode-notebook-cell:/home/ifeanyi/Desktop/projects/CloudBoosta/python_AWS/iamRoles.ipynb#ch0000029?line=7'>8</a>\u001b[0m     ]\n\u001b[1;32m      <a href='vscode-notebook-cell:/home/ifeanyi/Desktop/projects/CloudBoosta/python_AWS/iamRoles.ipynb#ch0000029?line=8'>9</a>\u001b[0m )\n\u001b[0;32m---> <a href='vscode-notebook-cell:/home/ifeanyi/Desktop/projects/CloudBoosta/python_AWS/iamRoles.ipynb#ch0000029?line=10'>11</a>\u001b[0m pprint(response[\u001b[39m\"\u001b[39;49m\u001b[39mReservations\u001b[39;49m\u001b[39m\"\u001b[39;49m][\u001b[39m0\u001b[39;49m][\u001b[39m\"\u001b[39m\u001b[39mInstances\u001b[39m\u001b[39m\"\u001b[39m][\u001b[39m0\u001b[39m])\n",
      "\u001b[0;31mIndexError\u001b[0m: list index out of range"
     ]
    }
   ],
   "source": [
    "# getting tags by color\n",
    "response  = ec2.describe_instances(\n",
    "    Filters=[\n",
    "        {\n",
    "            \"Name\": \"tag:color\",\n",
    "            \"Values\": [\"blue\"]\n",
    "        }\n",
    "    ]\n",
    ")\n",
    "\n",
    "pprint(response[\"Reservations\"][0][\"Instances\"][0])"
   ]
  },
  {
   "cell_type": "markdown",
   "metadata": {},
   "source": [
    "# if there is too much data: Pagination"
   ]
  },
  {
   "cell_type": "code",
   "execution_count": 61,
   "metadata": {},
   "outputs": [
    {
     "name": "stdout",
     "output_type": "stream",
     "text": [
      "{'IsTruncated': True,\n",
      " 'Marker': 'AApBd43+fZdHWd2URH3bUHkqQQ1pnjqod0NaHOsPnAD8gkv5Rj2fJtYlUg7fEZRA4EB0TGa3zUkiIPc2rxNeSxrlT+JgztIbsKcS0vp0ZHfR/g==',\n",
      " 'Policies': [...],\n",
      " 'ResponseMetadata': {...}}\n",
      "---------\n",
      "  AWSLambdaBasicExecutionRole-17789289-ddbf-4a03-8258-4703b1820b7b\n",
      "  AWSLambdaBasicExecutionRole-278bf050-1567-44d0-9dc1-11715bb39f7e\n",
      "  AWSLambdaBasicExecutionRole-286202bc-27f8-438f-b562-59da099152b5\n",
      "  AWSLambdaBasicExecutionRole-41de3edb-cf18-41de-936a-d16d109cfc35\n",
      "  AWSLambdaBasicExecutionRole-47d96e6c-2a8f-4397-b332-9b7f27d436f7\n",
      "  AWSLambdaBasicExecutionRole-5d76cc2e-d983-45d2-8443-bb0e925479a1\n",
      "  AWSLambdaBasicExecutionRole-7e5f1432-fef3-4204-ba90-cccaa5f5705b\n",
      "  AWSLambdaBasicExecutionRole-80b62a12-efe2-4ece-81aa-5588f405dc81\n",
      "  AWSLambdaBasicExecutionRole-822eef52-6dd0-4506-9d57-1092920deb73\n",
      "  AWSLambdaBasicExecutionRole-9ffdb872-ec09-47cf-836b-7d871f7da4e2\n"
     ]
    }
   ],
   "source": [
    "response = geraldIAM.list_policies(\n",
    "    Scope = \"All\",\n",
    "    OnlyAttached= False,\n",
    "    PolicyUsageFilter=\"PermissionsPolicy\",\n",
    "    MaxItems=10\n",
    ")\n",
    "pprint(response, depth=1)\n",
    "print(\"---------\")\n",
    "for policy in response[\"Policies\"]:\n",
    "    print(\"  \"+ policy[\"PolicyName\"])\n",
    "next_marker = response[\"Marker\"]"
   ]
  },
  {
   "cell_type": "code",
   "execution_count": 68,
   "metadata": {},
   "outputs": [
    {
     "name": "stdout",
     "output_type": "stream",
     "text": [
      "{'IsTruncated': True,\n",
      " 'Marker': 'ABsjhN2J+YtrrodFXP01m0nhQyM2qtDb0OE5MAxlx2O7dPA1TOgk+mwXiNuw44nRPBweO0azhHDH2nRkxVn7hTF4zxnjCtAbTwsb1JeSaVpD2g==',\n",
      " 'Policies': [...],\n",
      " 'ResponseMetadata': {...}}\n",
      "---------------------------\n",
      "  AWSLambdaBasicExecutionRole-a3009e52-5e32-4e34-ac14-b7afa663ceda\n",
      "  AWSLambdaBasicExecutionRole-aa32ba0e-0c89-4c05-8115-a14e8c408d18\n",
      "  AWSLambdaBasicExecutionRole-ac27b1cf-59bc-4333-9586-488042cbe01c\n",
      "  AWSLambdaBasicExecutionRole-c66acd91-ad2e-40a0-ba12-9dc85174e81c\n",
      "  AWSLambdaBasicExecutionRole-d475eb2e-f734-45c7-9da7-1008bd5b9c68\n",
      "  AWSLambdaBasicExecutionRole-da7599c0-d1c7-4d4e-a99e-5a68e4f89ad6\n",
      "  AWSLambdaBasicExecutionRole-f9e39ee4-dfa9-4219-87bf-9400c6d6117b\n",
      "  iam_policy_1\n",
      "  kinesis-analytics-service-wildrydes-eu-west-2\n",
      "  ListBucket\n"
     ]
    }
   ],
   "source": [
    "response = geraldIAM.list_policies(\n",
    "    Scope=\"All\",\n",
    "    OnlyAttached=False,\n",
    "    PolicyUsageFilter=\"PermissionsPolicy\",\n",
    "    MaxItems =10,\n",
    "    Marker=next_marker\n",
    ") \n",
    "\n",
    "pprint(response, depth=1)\n",
    "print(\"---------------------------\")\n",
    "for policy in response[\"Policies\"]:\n",
    "    print(\"  \" + policy[\"PolicyName\"])\n",
    "next_marker = response[\"Marker\"]"
   ]
  }
 ],
 "metadata": {
  "kernelspec": {
   "display_name": "Python 3.10.4 64-bit",
   "language": "python",
   "name": "python3"
  },
  "language_info": {
   "codemirror_mode": {
    "name": "ipython",
    "version": 3
   },
   "file_extension": ".py",
   "mimetype": "text/x-python",
   "name": "python",
   "nbconvert_exporter": "python",
   "pygments_lexer": "ipython3",
   "version": "3.10.4"
  },
  "orig_nbformat": 4,
  "vscode": {
   "interpreter": {
    "hash": "916dbcbb3f70747c44a77c7bcd40155683ae19c65e1c03b4aa3499c5328201f1"
   }
  }
 },
 "nbformat": 4,
 "nbformat_minor": 2
}
