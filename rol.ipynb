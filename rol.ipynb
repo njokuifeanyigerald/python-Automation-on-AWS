{
 "cells": [
  {
   "cell_type": "code",
   "execution_count": 1,
   "metadata": {},
   "outputs": [
    {
     "name": "stdout",
     "output_type": "stream",
     "text": [
      "{\"Version\": \"2012-10-17\", \"Statement\": [{\"Effect\": \"Allow\", \"Principal\": {\"Service\": \"ec2.amazonaws.com\"}, \"Action\": \"sts:AssumeRole\"}]}\n"
     ]
    }
   ],
   "source": [
    "import json, boto3\n",
    "from pprint import pprint\n",
    "\n",
    "ec2_assume_role_policy_doc = json.dumps({\n",
    "    \"Version\": \"2012-10-17\",\n",
    "    \"Statement\": [\n",
    "        {\n",
    "            \"Effect\": \"Allow\",\n",
    "            \"Principal\": {\n",
    "                \"Service\": \"ec2.amazonaws.com\"\n",
    "            },\n",
    "            \"Action\": \"sts:AssumeRole\"\n",
    "        }\n",
    "    ]\n",
    "})\n",
    "\n",
    "print(ec2_assume_role_policy_doc)"
   ]
  },
  {
   "cell_type": "code",
   "execution_count": 2,
   "metadata": {},
   "outputs": [
    {
     "name": "stdout",
     "output_type": "stream",
     "text": [
      "{'ResponseMetadata': {'HTTPHeaders': {'content-length': '941',\n",
      "                                      'content-type': 'text/xml',\n",
      "                                      'date': 'Mon, 05 Sep 2022 09:31:24 GMT',\n",
      "                                      'x-amzn-requestid': 'f447a0f7-ab02-4e1c-8a5b-82793010d51f'},\n",
      "                      'HTTPStatusCode': 200,\n",
      "                      'RequestId': 'f447a0f7-ab02-4e1c-8a5b-82793010d51f',\n",
      "                      'RetryAttempts': 0},\n",
      " 'Role': {'Arn': 'arn:aws:iam::318867684519:role/ec2-readonly-gerald-2',\n",
      "          'AssumeRolePolicyDocument': {'Statement': [{'Action': 'sts:AssumeRole',\n",
      "                                                      'Effect': 'Allow',\n",
      "                                                      'Principal': {'Service': 'ec2.amazonaws.com'}}],\n",
      "                                       'Version': '2012-10-17'},\n",
      "          'CreateDate': datetime.datetime(2022, 9, 5, 9, 31, 25, tzinfo=tzutc()),\n",
      "          'Path': '/',\n",
      "          'RoleId': 'AROAUUPP6XSTUWYUU6SOG',\n",
      "          'RoleName': 'ec2-readonly-gerald-2',\n",
      "          'Tags': [{'Key': 'gerald.njoku',\n",
      "                    'Value': 'For automation with python'}]}}\n"
     ]
    }
   ],
   "source": [
    "\n",
    "gerald = boto3.Session(\n",
    "    profile_name= 'gerald.njoku',\n",
    "    region_name= \"eu-central-1\"\n",
    ")\n",
    "\n",
    "# add a a new client\n",
    "gerald_IAM = gerald.client(\"iam\")\n",
    "\n",
    "# we create the role with the new client\n",
    "response = gerald_IAM.create_role(\n",
    "    RoleName = \"ec2-readonly-gerald-2\",\n",
    "    AssumeRolePolicyDocument = ec2_assume_role_policy_doc,\n",
    "    Description = \"Allows am instance to ec2 read-only access\",\n",
    "    Tags = [\n",
    "        {\n",
    "            \"Key\": \"gerald.njoku\",\n",
    "            \"Value\": \"For automation with python\"\n",
    "        }\n",
    "    ]\n",
    ")\n",
    "\n",
    "pprint(response)"
   ]
  },
  {
   "cell_type": "code",
   "execution_count": 3,
   "metadata": {},
   "outputs": [
    {
     "name": "stdout",
     "output_type": "stream",
     "text": [
      "ec2-readonly-gerald-2\n"
     ]
    }
   ],
   "source": [
    "ec2_readonly_role_name = response['Role']['RoleName']\n",
    "print(ec2_readonly_role_name)\n",
    "\n",
    "\n"
   ]
  }
 ],
 "metadata": {
  "kernelspec": {
   "display_name": "Python 3.10.4 64-bit",
   "language": "python",
   "name": "python3"
  },
  "language_info": {
   "codemirror_mode": {
    "name": "ipython",
    "version": 3
   },
   "file_extension": ".py",
   "mimetype": "text/x-python",
   "name": "python",
   "nbconvert_exporter": "python",
   "pygments_lexer": "ipython3",
   "version": "3.10.4"
  },
  "orig_nbformat": 4,
  "vscode": {
   "interpreter": {
    "hash": "916dbcbb3f70747c44a77c7bcd40155683ae19c65e1c03b4aa3499c5328201f1"
   }
  }
 },
 "nbformat": 4,
 "nbformat_minor": 2
}
